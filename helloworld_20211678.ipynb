{
  "nbformat": 4,
  "nbformat_minor": 0,
  "metadata": {
    "colab": {
      "name": "helloworld_20211678.ipynb",
      "provenance": [],
      "authorship_tag": "ABX9TyMM4DvVoId17Mdnf2IQ5EC7",
      "include_colab_link": true
    },
    "kernelspec": {
      "name": "python3",
      "display_name": "Python 3"
    },
    "language_info": {
      "name": "python"
    }
  },
  "cells": [
    {
      "cell_type": "markdown",
      "metadata": {
        "id": "view-in-github",
        "colab_type": "text"
      },
      "source": [
        "<a href=\"https://colab.research.google.com/github/hnnynh/helloworld/blob/main/helloworld_20211678.ipynb\" target=\"_parent\"><img src=\"https://colab.research.google.com/assets/colab-badge.svg\" alt=\"Open In Colab\"/></a>"
      ]
    },
    {
      "cell_type": "code",
      "metadata": {
        "id": "NTmniqgfb1Ec"
      },
      "source": [
        "print(\"Hello world!\")\n",
        "id = 20211678\n",
        "print(id)"
      ],
      "execution_count": null,
      "outputs": []
    }
  ]
}